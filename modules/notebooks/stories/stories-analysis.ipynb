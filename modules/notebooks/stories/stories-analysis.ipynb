{
 "cells": [
  {
   "cell_type": "markdown",
   "metadata": {
    "colab_type": "text",
    "id": "kO9wt2g3okLS"
   },
   "source": [
    "# Análise das Stories\n",
    "\n",
    "Notebook para o auxílio da análise das stories do chatbot."
   ]
  },
  {
   "cell_type": "markdown",
   "metadata": {},
   "source": [
    "### Configurando e Imports"
   ]
  },
  {
   "cell_type": "code",
   "execution_count": 1,
   "metadata": {},
   "outputs": [
    {
     "name": "stdout",
     "output_type": "stream",
     "text": [
      "Rasa: 2.8.7\n"
     ]
    }
   ],
   "source": [
    "from IPython.display import IFrame\n",
    "\n",
    "import rasa\n",
    "print(\"Rasa: {}\".format(rasa.__version__))"
   ]
  },
  {
   "cell_type": "markdown",
   "metadata": {
    "colab_type": "text",
    "id": "tK5os3OinphP"
   },
   "source": [
    "## Análise e Avaliação das Stories"
   ]
  },
  {
   "cell_type": "markdown",
   "metadata": {
    "colab_type": "text",
    "id": "qWALQbCdwGxK"
   },
   "source": [
    "### Visualização do Fluxo de Conversa\n",
    "\n",
    "O comando abaixo monta um grafo com a relação das `intents` e `utters` do chatbot, ou seja, você vai conseguir visualizar o fluxo de conversa do seu chatbot.\n",
    "\n",
    "Esta visualização é importante para verificar possíveis problemas na estrutura do seu chatbot e se ele realmente chega em determinadas \"**falas**\" da conversa."
   ]
  },
  {
   "cell_type": "code",
   "execution_count": 2,
   "metadata": {},
   "outputs": [
    {
     "name": "stdout",
     "output_type": "stream",
     "text": [
      "\u001b[93m/usr/local/lib/python3.7/site-packages/rasa/utils/train_utils.py:646: UserWarning: constrain_similarities is set to `False`. It is recommended to set it to `True` when using cross-entropy loss. It will be set to `True` by default, Rasa Open Source 3.0.0 onwards.\n",
      "  category=UserWarning,\n",
      "\u001b[0m\u001b[93m/usr/local/lib/python3.7/site-packages/rasa/shared/core/domain.py:2006: FutureWarning: The definition of slot mappings in your form should always be preceded by the keyword `required_slots`. The lack of this keyword will be deprecated in Rasa Open Source 3.0.0. Please see https://rasa.com/docs/rasa/forms for more information.\n",
      "  f\"The definition of slot mappings in your form \"\n",
      "\u001b[0m2021-09-28 20:38:59 \u001b[1;30mINFO    \u001b[0m \u001b[34mrasa.core.visualize\u001b[0m  - Starting to visualize stories...\n",
      "Processed story blocks: 100%|███| 20/20 [00:00<00:00, 2028.39it/s, # trackers=1]\n",
      "Processed rules: 100%|████████████| 3/3 [00:00<00:00, 1361.79it/s, # trackers=1]\n",
      "2021-09-28 20:39:00 \u001b[1;30mINFO    \u001b[0m \u001b[34mrasa.core.visualize\u001b[0m  - Finished graph creation. Saved into file:///work/notebooks/stories/chat_graph.html\n"
     ]
    }
   ],
   "source": [
    "# !python -m rasa_core.visualize -d $COACH_DOMAIN_PATH -s $COACH_STORIES_PATH -o chat_graph.html\n",
    "!rasa visualize --domain $DOMAIN_PATH --stories $DATA_PATH --config $CONFIG_PATH --out chat_graph.html"
   ]
  },
  {
   "cell_type": "markdown",
   "metadata": {},
   "source": [
    "O Rasa gerou uma página `html` com o grafo de conversa, para facilitar, você pode visualizar o grafo no arquivo `chat_graph.html` aqui na próxima celula.\n",
    "\n",
    "Use o mouse para dar zoom e arrastar sobre o conteúdo do grafo. Altere `width` e `height` se desejar.\n",
    "\n",
    "* Dica: caso você se perca com **zoom in** ou **zoom out** no grafo, apeas re-execute a célula abaixo e ele irá reaparecer na célula."
   ]
  },
  {
   "cell_type": "code",
   "execution_count": 3,
   "metadata": {},
   "outputs": [
    {
     "data": {
      "text/html": [
       "\n",
       "        <iframe\n",
       "            width=\"900\"\n",
       "            height=\"600\"\n",
       "            src=\"./chat_graph.html\"\n",
       "            frameborder=\"0\"\n",
       "            allowfullscreen\n",
       "            \n",
       "        ></iframe>\n",
       "        "
      ],
      "text/plain": [
       "<IPython.lib.display.IFrame at 0x7f9760512250>"
      ]
     },
     "execution_count": 3,
     "metadata": {},
     "output_type": "execute_result"
    }
   ],
   "source": [
    "IFrame(src='./chat_graph.html', width=900, height=600)"
   ]
  },
  {
   "cell_type": "markdown",
   "metadata": {},
   "source": [
    "### Avaliação das Stories\n",
    "\n",
    "Outra forma de analisar seu chatbot é por meio da própria avaliação do Rasa, ele gera uma matriz de confusão com os dados fornecidos nas `stories` e do resultado do treinamento armazenado na pasta `models`."
   ]
  },
  {
   "cell_type": "markdown",
   "metadata": {},
   "source": [
    "* Caso você ainda não tenha treinado seu chatbot execute a célula abaixo para treiná-lo."
   ]
  },
  {
   "cell_type": "code",
   "execution_count": 4,
   "metadata": {
    "scrolled": true
   },
   "outputs": [
    {
     "name": "stdout",
     "output_type": "stream",
     "text": [
      "\u001b[93m/usr/local/lib/python3.7/site-packages/rasa/shared/core/domain.py:2006: FutureWarning: The definition of slot mappings in your form should always be preceded by the keyword `required_slots`. The lack of this keyword will be deprecated in Rasa Open Source 3.0.0. Please see https://rasa.com/docs/rasa/forms for more information.\n",
      "  f\"The definition of slot mappings in your form \"\n",
      "\u001b[0m\u001b[94mTraining NLU model...\u001b[0m\n",
      "2021-09-28 20:39:05 \u001b[1;30mINFO    \u001b[0m \u001b[34mrasa.shared.nlu.training_data.training_data\u001b[0m  - Training data stats:\n",
      "2021-09-28 20:39:05 \u001b[1;30mINFO    \u001b[0m \u001b[34mrasa.shared.nlu.training_data.training_data\u001b[0m  - Number of intent examples: 298 (26 distinct intents)\n",
      "\n",
      "2021-09-28 20:39:05 \u001b[1;30mINFO    \u001b[0m \u001b[34mrasa.shared.nlu.training_data.training_data\u001b[0m  -   Found intents: 'religiao', 'cor', 'historia', 'elogios', 'triste', 'nlu_fallback', 'negar', 'despedir', 'musica', 'afirmar', 'cancelar', 'comida', 'licenca', 'signo', 'menu', 'tudo_bem', 'cumprimentar', 'me_ajuda', 'pede_exemplo_acao', 'piada', 'genero', 'relacionamento', 'informar', 'pede_exemplo_form', 'onde_voce_mora', 'time'\n",
      "2021-09-28 20:39:05 \u001b[1;30mINFO    \u001b[0m \u001b[34mrasa.shared.nlu.training_data.training_data\u001b[0m  - Number of response examples: 0 (0 distinct responses)\n",
      "2021-09-28 20:39:05 \u001b[1;30mINFO    \u001b[0m \u001b[34mrasa.shared.nlu.training_data.training_data\u001b[0m  - Number of entity examples: 173 (20 distinct entities)\n",
      "2021-09-28 20:39:05 \u001b[1;30mINFO    \u001b[0m \u001b[34mrasa.shared.nlu.training_data.training_data\u001b[0m  -   Found entity types: 'historia', 'musica', 'signo', 'acao', 'piada', 'oi', 'idade', 'religiao', 'cor', 'triste', 'vive', 'comida', 'formulario', 'meajuda', 'licenca', 'menu', 'relationship', 'genero', 'time', 'nome'\n",
      "2021-09-28 20:39:05 \u001b[1;30mINFO    \u001b[0m \u001b[34mrasa.nlu.model\u001b[0m  - Starting to train component WhitespaceTokenizer\n",
      "2021-09-28 20:39:05 \u001b[1;30mINFO    \u001b[0m \u001b[34mrasa.nlu.model\u001b[0m  - Finished training component.\n",
      "2021-09-28 20:39:05 \u001b[1;30mINFO    \u001b[0m \u001b[34mrasa.nlu.model\u001b[0m  - Starting to train component RegexFeaturizer\n",
      "2021-09-28 20:39:05 \u001b[1;30mINFO    \u001b[0m \u001b[34mrasa.nlu.model\u001b[0m  - Finished training component.\n",
      "2021-09-28 20:39:05 \u001b[1;30mINFO    \u001b[0m \u001b[34mrasa.nlu.model\u001b[0m  - Starting to train component LexicalSyntacticFeaturizer\n",
      "2021-09-28 20:39:06 \u001b[1;30mINFO    \u001b[0m \u001b[34mrasa.nlu.model\u001b[0m  - Finished training component.\n",
      "2021-09-28 20:39:06 \u001b[1;30mINFO    \u001b[0m \u001b[34mrasa.nlu.model\u001b[0m  - Starting to train component CountVectorsFeaturizer\n",
      "2021-09-28 20:39:06 \u001b[1;30mINFO    \u001b[0m \u001b[34mrasa.nlu.featurizers.sparse_featurizer.count_vectors_featurizer\u001b[0m  - 2182 vocabulary items were created for text attribute.\n",
      "2021-09-28 20:39:06 \u001b[1;30mINFO    \u001b[0m \u001b[34mrasa.nlu.model\u001b[0m  - Finished training component.\n",
      "2021-09-28 20:39:06 \u001b[1;30mINFO    \u001b[0m \u001b[34mrasa.nlu.model\u001b[0m  - Starting to train component DIETClassifier\n",
      "Epochs: 100%|█| 107/107 [01:49<00:00,  1.02s/it, t_loss=2.11, i_acc=1, e_f1=0.98\n",
      "2021-09-28 20:40:56 \u001b[1;30mINFO    \u001b[0m \u001b[34mrasa.nlu.model\u001b[0m  - Finished training component.\n",
      "2021-09-28 20:40:56 \u001b[1;30mINFO    \u001b[0m \u001b[34mrasa.nlu.model\u001b[0m  - Starting to train component EntitySynonymMapper\n",
      "2021-09-28 20:40:56 \u001b[1;30mINFO    \u001b[0m \u001b[34mrasa.nlu.model\u001b[0m  - Finished training component.\n",
      "2021-09-28 20:40:56 \u001b[1;30mINFO    \u001b[0m \u001b[34mrasa.nlu.model\u001b[0m  - Starting to train component ResponseSelector\n",
      "2021-09-28 20:40:56 \u001b[1;30mINFO    \u001b[0m \u001b[34mrasa.nlu.selectors.response_selector\u001b[0m  - Retrieval intent parameter was left to its default value. This response selector will be trained on training examples combining all retrieval intents.\n",
      "2021-09-28 20:40:56 \u001b[1;30mINFO    \u001b[0m \u001b[34mrasa.nlu.model\u001b[0m  - Finished training component.\n",
      "2021-09-28 20:40:56 \u001b[1;30mINFO    \u001b[0m \u001b[34mrasa.nlu.model\u001b[0m  - Starting to train component FallbackClassifier\n",
      "2021-09-28 20:40:56 \u001b[1;30mINFO    \u001b[0m \u001b[34mrasa.nlu.model\u001b[0m  - Finished training component.\n",
      "2021-09-28 20:40:56 \u001b[1;30mINFO    \u001b[0m \u001b[34mrasa.nlu.model\u001b[0m  - Successfully saved model into '/tmp/tmpszr2uj8x/nlu'\n",
      "\u001b[94mNLU model training completed.\u001b[0m\n",
      "\u001b[94mTraining Core model...\u001b[0m\n",
      "\u001b[93m/usr/local/lib/python3.7/site-packages/rasa/utils/train_utils.py:646: UserWarning: constrain_similarities is set to `False`. It is recommended to set it to `True` when using cross-entropy loss. It will be set to `True` by default, Rasa Open Source 3.0.0 onwards.\n",
      "  category=UserWarning,\n",
      "Processed story blocks: 100%|███| 20/20 [00:00<00:00, 2905.35it/s, # trackers=1]\n",
      "Processed story blocks: 100%|███| 20/20 [00:00<00:00, 174.08it/s, # trackers=20]\n",
      "Processed story blocks: 100%|████| 20/20 [00:00<00:00, 56.32it/s, # trackers=50]\n",
      "Processed story blocks: 100%|████| 20/20 [00:00<00:00, 41.62it/s, # trackers=50]\n",
      "Processed rules: 100%|████████████| 3/3 [00:00<00:00, 1891.03it/s, # trackers=1]\n",
      "Processed trackers: 100%|████████| 20/20 [00:00<00:00, 1762.09it/s, # action=55]\n",
      "Processed actions: 55it [00:00, 6279.07it/s, # examples=55]\n",
      "Processed trackers: 100%|█████| 520/520 [00:00<00:00, 865.66it/s, # action=1193]\n",
      "Epochs: 100%|█| 44/44 [00:31<00:00,  1.42it/s, t_loss=2.65, loss=2.34, acc=0.981\n",
      "Processed trackers: 100%|███████████| 3/3 [00:00<00:00, 504.33it/s, # action=10]\n",
      "Processed actions: 10it [00:00, 4252.13it/s, # examples=8]\n",
      "Processed trackers: 100%|█████████| 20/20 [00:00<00:00, 672.55it/s, # action=55]\n",
      "Processed trackers: 100%|████████████████████████| 3/3 [00:00<00:00, 707.86it/s]\n",
      "Processed trackers: 100%|██████████████████████| 23/23 [00:00<00:00, 775.26it/s]\n",
      "2021-09-28 20:41:41 \u001b[1;30mINFO    \u001b[0m \u001b[34mrasa.core.agent\u001b[0m  - Persisted model to '/tmp/tmpszr2uj8x/core'\n",
      "\u001b[94mCore model training completed.\u001b[0m\n",
      "\u001b[92mYour Rasa model is trained and saved at '/work/notebooks/stories/models/20210928-204141.tar.gz'.\u001b[0m\n"
     ]
    }
   ],
   "source": [
    "!rasa train --config $CONFIG_PATH --domain $DOMAIN_PATH --data $DATA_PATH"
   ]
  },
  {
   "cell_type": "code",
   "execution_count": 5,
   "metadata": {
    "scrolled": true
   },
   "outputs": [
    {
     "name": "stdout",
     "output_type": "stream",
     "text": [
      "2021-09-28 20:41:50 \u001b[1;30mINFO    \u001b[0m \u001b[34mrasa.model\u001b[0m  - Loading model models/20210928-204141.tar.gz...\n",
      "\u001b[93m/usr/local/lib/python3.7/site-packages/rasa/utils/train_utils.py:646: UserWarning: constrain_similarities is set to `False`. It is recommended to set it to `True` when using cross-entropy loss. It will be set to `True` by default, Rasa Open Source 3.0.0 onwards.\n",
      "  category=UserWarning,\n",
      "Processed story blocks: 100%|█████| 5/5 [00:00<00:00, 1449.31it/s, # trackers=1]\n",
      "2021-09-28 20:42:10 \u001b[1;30mINFO    \u001b[0m \u001b[34mrasa.core.test\u001b[0m  - Evaluating 5 stories\n",
      "Progress:\n",
      "100%|█████████████████████████████████████████████| 5/5 [00:00<00:00, 25.14it/s]\n",
      "2021-09-28 20:42:11 \u001b[1;30mINFO    \u001b[0m \u001b[34mrasa.core.test\u001b[0m  - Finished collecting predictions.\n",
      "2021-09-28 20:42:11 \u001b[1;30mINFO    \u001b[0m \u001b[34mrasa.core.test\u001b[0m  - Evaluation Results on CONVERSATION level:\n",
      "2021-09-28 20:42:11 \u001b[1;30mINFO    \u001b[0m \u001b[34mrasa.core.test\u001b[0m  - \tCorrect:          5 / 5\n",
      "2021-09-28 20:42:11 \u001b[1;30mINFO    \u001b[0m \u001b[34mrasa.core.test\u001b[0m  - \tAccuracy:         1.000\n",
      "2021-09-28 20:42:11 \u001b[1;30mINFO    \u001b[0m \u001b[34mrasa.core.test\u001b[0m  - Stories report saved to results/story_report.json.\n",
      "2021-09-28 20:42:11 \u001b[1;30mINFO    \u001b[0m \u001b[34mrasa.nlu.test\u001b[0m  - Evaluation for entity extractor: TEDPolicy \n",
      "2021-09-28 20:42:11 \u001b[1;30mWARNING \u001b[0m \u001b[34mrasa.model_testing\u001b[0m  - \u001b[33mNo labels to evaluate. Skip evaluation.\u001b[0m\n",
      "2021-09-28 20:42:11 \u001b[1;30mINFO    \u001b[0m \u001b[34mrasa.nlu.test\u001b[0m  - Classification report saved to results/TEDPolicy_report.json.\n",
      "2021-09-28 20:42:11 \u001b[1;30mINFO    \u001b[0m \u001b[34mrasa.nlu.test\u001b[0m  - Every entity was predicted correctly by the model.\n",
      "/usr/local/lib/python3.7/site-packages/rasa/utils/plotting.py:109: UserWarning: Attempting to set identical left == right == -0.5 results in singular transformations; automatically expanding.\n",
      "  norm=LogNorm(vmin=zmin, vmax=zmax),\n",
      "/usr/local/lib/python3.7/site-packages/rasa/utils/plotting.py:109: UserWarning: Attempting to set identical bottom == top == -0.5 results in singular transformations; automatically expanding.\n",
      "  norm=LogNorm(vmin=zmin, vmax=zmax),\n",
      "2021-09-28 20:42:11 \u001b[1;30mINFO    \u001b[0m \u001b[34mrasa.utils.plotting\u001b[0m  - Confusion matrix, without normalization: \n",
      "[]\n",
      "2021-09-28 20:42:12 \u001b[1;30mINFO    \u001b[0m \u001b[34mrasa.core.test\u001b[0m  - Evaluation Results on ACTION level:\n",
      "2021-09-28 20:42:12 \u001b[1;30mINFO    \u001b[0m \u001b[34mrasa.core.test\u001b[0m  - \tCorrect:          32 / 32\n",
      "2021-09-28 20:42:12 \u001b[1;30mINFO    \u001b[0m \u001b[34mrasa.core.test\u001b[0m  - \tF1-Score:         1.000\n",
      "2021-09-28 20:42:12 \u001b[1;30mINFO    \u001b[0m \u001b[34mrasa.core.test\u001b[0m  - \tPrecision:        1.000\n",
      "2021-09-28 20:42:12 \u001b[1;30mINFO    \u001b[0m \u001b[34mrasa.core.test\u001b[0m  - \tAccuracy:         1.000\n",
      "2021-09-28 20:42:12 \u001b[1;30mINFO    \u001b[0m \u001b[34mrasa.core.test\u001b[0m  - \tIn-data fraction: 0.438\n",
      "2021-09-28 20:42:12 \u001b[1;30mINFO    \u001b[0m \u001b[34mrasa.utils.plotting\u001b[0m  - Confusion matrix, without normalization: \n",
      "[[12  0  0  0  0  0  0  0  0  0  0  0]\n",
      " [ 0  1  0  0  0  0  0  0  0  0  0  0]\n",
      " [ 0  0  8  0  0  0  0  0  0  0  0  0]\n",
      " [ 0  0  0  1  0  0  0  0  0  0  0  0]\n",
      " [ 0  0  0  0  2  0  0  0  0  0  0  0]\n",
      " [ 0  0  0  0  0  1  0  0  0  0  0  0]\n",
      " [ 0  0  0  0  0  0  1  0  0  0  0  0]\n",
      " [ 0  0  0  0  0  0  0  1  0  0  0  0]\n",
      " [ 0  0  0  0  0  0  0  0  1  0  0  0]\n",
      " [ 0  0  0  0  0  0  0  0  0  1  0  0]\n",
      " [ 0  0  0  0  0  0  0  0  0  0  2  0]\n",
      " [ 0  0  0  0  0  0  0  0  0  0  0  1]]\n",
      "\u001b[94mFailed stories written to 'results/failed_test_stories.yml'\u001b[0m\n",
      "\u001b[94mStories with prediction warnings written to 'results/stories_with_warnings.yml'\u001b[0m\n"
     ]
    }
   ],
   "source": [
    "!rasa test core --stories $DATA_PATH../tests/ -m models/"
   ]
  },
  {
   "cell_type": "markdown",
   "metadata": {},
   "source": [
    "O resultado do comando pode ser visto na pasta `results/`:"
   ]
  },
  {
   "cell_type": "code",
   "execution_count": 6,
   "metadata": {},
   "outputs": [
    {
     "name": "stdout",
     "output_type": "stream",
     "text": [
      "TEDPolicy_confusion_matrix.png\tstories_with_warnings.yml\r\n",
      "TEDPolicy_report.json\t\tstory_confusion_matrix.png\r\n",
      "failed_test_stories.yml\t\tstory_report.json\r\n"
     ]
    }
   ],
   "source": [
    "!ls results/"
   ]
  },
  {
   "cell_type": "code",
   "execution_count": 7,
   "metadata": {
    "scrolled": true
   },
   "outputs": [
    {
     "name": "stdout",
     "output_type": "stream",
     "text": [
      "{\r\n",
      "  \"utter_cumprimentar\": {\r\n",
      "    \"precision\": 1.0,\r\n",
      "    \"recall\": 1.0,\r\n",
      "    \"f1-score\": 1.0,\r\n",
      "    \"support\": 1\r\n",
      "  },\r\n",
      "  \"utter_religiao\": {\r\n",
      "    \"precision\": 1.0,\r\n",
      "    \"recall\": 1.0,\r\n",
      "    \"f1-score\": 1.0,\r\n",
      "    \"support\": 1\r\n",
      "  },\r\n",
      "  \"utter_piada\": {\r\n",
      "    \"precision\": 1.0,\r\n",
      "    \"recall\": 1.0,\r\n",
      "    \"f1-score\": 1.0,\r\n",
      "    \"support\": 1\r\n",
      "  },\r\n",
      "  \"utter_time\": {\r\n",
      "    \"precision\": 1.0,\r\n",
      "    \"recall\": 1.0,\r\n",
      "    \"f1-score\": 1.0,\r\n",
      "    \"support\": 2\r\n",
      "  },\r\n",
      "  \"utter_onde_voce_mora\": {\r\n",
      "    \"precision\": 1.0,\r\n",
      "    \"recall\": 1.0,\r\n",
      "    \"f1-score\": 1.0,\r\n",
      "    \"support\": 1\r\n",
      "  },\r\n",
      "  \"utter_musica\": {\r\n",
      "    \"precision\": 1.0,\r\n",
      "    \"recall\": 1.0,\r\n",
      "    \"f1-score\": 1.0,\r\n",
      "    \"support\": 1\r\n",
      "  },\r\n",
      "  \"utter_comida\": {\r\n",
      "    \"precision\": 1.0,\r\n",
      "    \"recall\": 1.0,\r\n",
      "    \"f1-score\": 1.0,\r\n",
      "    \"support\": 1\r\n",
      "  },\r\n",
      "  \"action_listen\": {\r\n",
      "    \"precision\": 1.0,\r\n",
      "    \"recall\": 1.0,\r\n",
      "    \"f1-score\": 1.0,\r\n",
      "    \"support\": 12\r\n",
      "  },\r\n",
      "  \"utter_elogios\": {\r\n",
      "    \"precision\": 1.0,\r\n",
      "    \"recall\": 1.0,\r\n",
      "    \"f1-score\": 1.0,\r\n",
      "    \"support\": 1\r\n",
      "  },\r\n",
      "  \"utter_despedir\": {\r\n",
      "    \"precision\": 1.0,\r\n",
      "    \"recall\": 1.0,\r\n",
      "    \"f1-score\": 1.0,\r\n",
      "    \"support\": 2\r\n",
      "  },\r\n",
      "  \"utter_tudo_bem\": {\r\n",
      "    \"precision\": 1.0,\r\n",
      "    \"recall\": 1.0,\r\n",
      "    \"f1-score\": 1.0,\r\n",
      "    \"support\": 1\r\n",
      "  },\r\n",
      "  \"utter_continuar_conversa\": {\r\n",
      "    \"precision\": 1.0,\r\n",
      "    \"recall\": 1.0,\r\n",
      "    \"f1-score\": 1.0,\r\n",
      "    \"support\": 8\r\n",
      "  },\r\n",
      "  \"accuracy\": 1.0,\r\n",
      "  \"macro avg\": {\r\n",
      "    \"precision\": 1.0,\r\n",
      "    \"recall\": 1.0,\r\n",
      "    \"f1-score\": 1.0,\r\n",
      "    \"support\": 32\r\n",
      "  },\r\n",
      "  \"weighted avg\": {\r\n",
      "    \"precision\": 1.0,\r\n",
      "    \"recall\": 1.0,\r\n",
      "    \"f1-score\": 1.0,\r\n",
      "    \"support\": 32\r\n",
      "  },\r\n",
      "  \"conversation_accuracy\": {\r\n",
      "    \"accuracy\": 1.0,\r\n",
      "    \"correct\": 5,\r\n",
      "    \"with_warnings\": 0,\r\n",
      "    \"total\": 5\r\n",
      "  }\r\n",
      "}"
     ]
    }
   ],
   "source": [
    "!cat results/story_report.json"
   ]
  },
  {
   "cell_type": "markdown",
   "metadata": {},
   "source": [
    "Caso algum problema seja encontrado ele será descrito no arquivo `failed_test_stories.yml`"
   ]
  },
  {
   "cell_type": "code",
   "execution_count": 8,
   "metadata": {},
   "outputs": [
    {
     "name": "stdout",
     "output_type": "stream",
     "text": [
      "# None of the test stories failed - all good!"
     ]
    }
   ],
   "source": [
    "!cat results/failed_test_stories.yml"
   ]
  },
  {
   "cell_type": "markdown",
   "metadata": {},
   "source": [
    "* Se tudo estiver correto você deverá ver a mensagem:\n",
    "\n",
    "`# None of the test stories failed - all good!`"
   ]
  },
  {
   "cell_type": "markdown",
   "metadata": {},
   "source": [
    "* Outro arquivo gerado é o `stories_with_warnings.yml`, que trata sobre alertas nas stories (detalhes em https://rasa.com/docs/rasa/testing-your-assistant/#interpreting-the-generated-warnings)"
   ]
  },
  {
   "cell_type": "code",
   "execution_count": 9,
   "metadata": {},
   "outputs": [
    {
     "name": "stdout",
     "output_type": "stream",
     "text": [
      "# No warnings for test stories"
     ]
    }
   ],
   "source": [
    "!cat results/stories_with_warnings.yml"
   ]
  },
  {
   "cell_type": "markdown",
   "metadata": {},
   "source": [
    "* Outro arquivo gerado é  o `story_confusion_matrix.png` uma matriz de confusão onde é possível visualizar a relação entre as `utters` (mensagens enviadas ."
   ]
  },
  {
   "cell_type": "code",
   "execution_count": 10,
   "metadata": {
    "scrolled": true
   },
   "outputs": [
    {
     "data": {
      "text/html": [
       "\n",
       "        <iframe\n",
       "            width=\"900\"\n",
       "            height=\"700\"\n",
       "            src=\"./results/story_confusion_matrix.png\"\n",
       "            frameborder=\"0\"\n",
       "            allowfullscreen\n",
       "            \n",
       "        ></iframe>\n",
       "        "
      ],
      "text/plain": [
       "<IPython.lib.display.IFrame at 0x7f9763dec950>"
      ]
     },
     "execution_count": 10,
     "metadata": {},
     "output_type": "execute_result"
    }
   ],
   "source": [
    "IFrame(\"./results/story_confusion_matrix.png\", width=900, height=700)"
   ]
  },
  {
   "cell_type": "code",
   "execution_count": 11,
   "metadata": {},
   "outputs": [
    {
     "name": "stdout",
     "output_type": "stream",
     "text": [
      "# No warnings for test stories"
     ]
    }
   ],
   "source": [
    "!cat results/stories_with_warnings.yml"
   ]
  },
  {
   "cell_type": "markdown",
   "metadata": {},
   "source": [
    "## Referências:\n",
    "\n",
    "O Rasa está em constante evolução, alguns links úteis para a construção deste jupyter-notebook e para a análise das `stories` são:\n",
    "\n",
    "* [Evaluation](https://rasa.com/docs/core/evaluation/)\n",
    "* [Debugging](https://rasa.com/docs/core/debugging/)"
   ]
  },
  {
   "cell_type": "code",
   "execution_count": null,
   "metadata": {},
   "outputs": [],
   "source": []
  }
 ],
 "metadata": {
  "colab": {
   "collapsed_sections": [
    "y4miuS-TqYcn",
    "BBF6Nqi9scQE",
    "Fs3nOUzBsqrG",
    "5MnGuFRpzzBh"
   ],
   "default_view": {},
   "name": "Building a Simple Bot with Rasa Stack - Tutorial",
   "provenance": [
    {
     "file_id": "1GutDkDXmfU-nRzNH7Pxxx8YpdvLUw9LO",
     "timestamp": 1521183725373
    }
   ],
   "toc_visible": true,
   "version": "0.3.2",
   "views": {}
  },
  "kernelspec": {
   "display_name": "Python 3 (ipykernel)",
   "language": "python",
   "name": "python3"
  },
  "language_info": {
   "codemirror_mode": {
    "name": "ipython",
    "version": 3
   },
   "file_extension": ".py",
   "mimetype": "text/x-python",
   "name": "python",
   "nbconvert_exporter": "python",
   "pygments_lexer": "ipython3",
   "version": "3.7.12"
  }
 },
 "nbformat": 4,
 "nbformat_minor": 1
}
